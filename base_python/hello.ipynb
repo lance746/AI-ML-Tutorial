{
 "cells": [
  {
   "cell_type": "code",
   "execution_count": 1,
   "metadata": {},
   "outputs": [
    {
     "name": "stdout",
     "output_type": "stream",
     "text": [
      "hello world\n"
     ]
    }
   ],
   "source": [
    "print(\"hello world\")"
   ]
  },
  {
   "cell_type": "code",
   "execution_count": 7,
   "metadata": {},
   "outputs": [
    {
     "name": "stdout",
     "output_type": "stream",
     "text": [
      "3 3 3.0 John\n",
      "<class 'str'>\n",
      "Five is greater than two!\n"
     ]
    }
   ],
   "source": [
    "x = str(3)    # x will be '3'\n",
    "y = int(3)    # y will be 3\n",
    "z = float(3)  # z will be 3.0\n",
    "j = \"John\"\n",
    "print(x,y,z,j)\n",
    "print(type(x))\n",
    "\n",
    "if 5 > 2:\n",
    "  print(\"Five is greater than two!\")"
   ]
  },
  {
   "cell_type": "code",
   "execution_count": 8,
   "metadata": {},
   "outputs": [
    {
     "name": "stdout",
     "output_type": "stream",
     "text": [
      "Python is fantastic\n",
      "Python is awesome\n"
     ]
    }
   ],
   "source": [
    "x = \"awesome\"\n",
    "\n",
    "def myfunc():\n",
    "  x = \"fantastic\"\n",
    "  print(\"Python is \" + x)\n",
    "\n",
    "myfunc()\n",
    "print(\"Python is \" + x)"
   ]
  },
  {
   "cell_type": "code",
   "execution_count": 14,
   "metadata": {},
   "outputs": [
    {
     "name": "stdout",
     "output_type": "stream",
     "text": [
      "str Hello World\n",
      "int 20\n",
      "float 20.5\n",
      "complex 1j\n",
      "list ['apple', 'banana', 'cherry']\n",
      "tuple ('apple', 'banana', 'cherry')\n",
      "tuple ('apple', 'banana', 'grape')\n",
      "range range(0, 6)\n",
      "dict {'name': 'John', 'age': 36}\n",
      "set {'banana', 'apple', 'cherry'}\n",
      "frozenset frozenset({'banana', 'apple', 'cherry'})\n",
      "bool True\n",
      "bytes b'\\x00\\x00\\x00\\x00\\x00'\n",
      "bytearray bytearray(b'\\x00\\x00\\x00\\x00\\x00')\n",
      "memoryview <memory at 0x000001ED3E573A00>\n"
     ]
    }
   ],
   "source": [
    "x = str(\"Hello World\")\t\n",
    "print(\"str\",x)\n",
    "\n",
    "x = int(20)\t\n",
    "print(\"int\",x)\n",
    "\n",
    "x = float(20.5)\t\n",
    "print(\"float\",x)\n",
    "\n",
    "x = complex(1j)\t\n",
    "print(\"complex\",x)\n",
    "\n",
    "x = list((\"apple\", \"banana\", \"cherry\"))\t\n",
    "print(\"list\",x)\n",
    "\n",
    "t = tuple((\"apple\", \"banana\", \"cherry\"))\t\n",
    "print(\"tuple\",t)\n",
    "\n",
    "\n",
    "x = range(6)\t\n",
    "print(\"range\",x)\n",
    "\n",
    "x = dict(name=\"John\", age=36)\t\n",
    "print(\"dict\",x)\n",
    "\n",
    "x = set((\"apple\", \"banana\", \"cherry\"))\t\n",
    "print(\"set\",x)\n",
    "\n",
    "x = frozenset((\"apple\", \"banana\", \"cherry\"))\t\n",
    "print(\"frozenset\",x)\n",
    "\n",
    "x = bool(1)\t\n",
    "print(\"bool\",x)\n",
    "\n",
    "x = bytes(5)\t\n",
    "print(\"bytes\",x)\n",
    "\n",
    "x = bytearray(5)\t\n",
    "print(\"bytearray\",x)\n",
    "\n",
    "x = memoryview(bytes(5))\t\n",
    "print(\"memoryview\",x)\n"
   ]
  },
  {
   "cell_type": "code",
   "execution_count": 22,
   "metadata": {},
   "outputs": [
    {
     "name": "stdout",
     "output_type": "stream",
     "text": [
      "llo\n",
      "hello, world!\n",
      "Hello, World!\n",
      "Jello, World!\n",
      "['Hello', ' World!']\n",
      "HelloWorld\n",
      "The price is 59.00 dollars\n",
      "We are the so-called \"Vikings\" from the north.\n"
     ]
    }
   ],
   "source": [
    "b = \"Hello, World!\"\n",
    "print(b[2:5])\n",
    "\n",
    "a = \"Hello, World!\"\n",
    "print(a.lower())\n",
    "\n",
    "a = \"     Hello, World! \"\n",
    "print(a.strip()) # returns \"Hello, World!\". removes any whitespace from the beginning or the end\n",
    "\n",
    "a = \"Hello, World!\"\n",
    "print(a.replace(\"H\", \"J\"))\n",
    "\n",
    "a = \"Hello, World!\"\n",
    "print(a.split(\",\")) # returns ['Hello', ' World!']\n",
    "\n",
    "a = \"Hello\"\n",
    "b = \"World\"\n",
    "c = a + b\n",
    "print(c)\n",
    "\n",
    "price = 59\n",
    "txt = f\"The price is {price:.2f} dollars\"\n",
    "print(txt)\n",
    "\n",
    "txt = \"We are the so-called \\\"Vikings\\\" from the north.\" # Escape Characters\n",
    "print(txt)"
   ]
  },
  {
   "cell_type": "code",
   "execution_count": 25,
   "metadata": {},
   "outputs": [
    {
     "name": "stdout",
     "output_type": "stream",
     "text": [
      "['apple', 'banana', 'cherry', 'apple', 'cherry']\n",
      "('apple', 'banana', 'cherry', 'apple', 'cherry')\n",
      "apple\n",
      "banana\n",
      "cherry\n"
     ]
    }
   ],
   "source": [
    "thislist = [\"apple\", \"banana\", \"cherry\", \"apple\", \"cherry\"]\n",
    "print(thislist)\n",
    "\n",
    "thistuple = (\"apple\", \"banana\", \"cherry\", \"apple\", \"cherry\")\n",
    "print(thistuple)\n",
    "\n",
    "thistuple = (\"apple\", \"banana\", \"cherry\")\n",
    "for x in thistuple:\n",
    "  print(x)"
   ]
  },
  {
   "cell_type": "code",
   "execution_count": 29,
   "metadata": {},
   "outputs": [
    {
     "name": "stdout",
     "output_type": "stream",
     "text": [
      "0\n",
      "1\n",
      "2\n",
      "3\n"
     ]
    }
   ],
   "source": [
    "import numpy as np\n",
    "\n",
    "a = np.array(42)\n",
    "b = np.array([1, 2, 3, 4, 5])\n",
    "c = np.array([[1, 2, 3], [4, 5, 6]])\n",
    "d = np.array([[[1, 2, 3], [4, 5, 6]], [[1, 2, 3], [4, 5, 6]]])\n",
    "\n",
    "print(a.ndim)\n",
    "print(b.ndim)\n",
    "print(c.ndim)\n",
    "print(d.ndim)"
   ]
  },
  {
   "cell_type": "code",
   "execution_count": 1,
   "metadata": {},
   "outputs": [],
   "source": [
    "class Prepster: \n",
    "    def __init__(self, name , userid,password):\n",
    "        self.name=name \n",
    "        self.userid=userid \n",
    "        self.password=password"
   ]
  },
  {
   "cell_type": "code",
   "execution_count": 3,
   "metadata": {},
   "outputs": [
    {
     "name": "stdout",
     "output_type": "stream",
     "text": [
      "rishikesh\n"
     ]
    }
   ],
   "source": [
    "class Prepster: \n",
    "    def __init__(self, name , userid,password):\n",
    "        self.name=name \n",
    "        self.userid=userid \n",
    "        self.password=password\n",
    " \n",
    "ob1=Prepster('rishikesh','Abc','abc@123') ##object \n",
    "print(ob1.name)"
   ]
  },
  {
   "cell_type": "code",
   "execution_count": 4,
   "metadata": {},
   "outputs": [
    {
     "name": "stdout",
     "output_type": "stream",
     "text": [
      "rishikesh\n",
      "Abc\n"
     ]
    }
   ],
   "source": [
    "class Prepster: \n",
    "    def __init__(self, name , userid,password):\n",
    "        self.name=name \n",
    "        self.userid=userid \n",
    "        self.password=password\n",
    "    def display(self): ##method of an class \n",
    "        print(self.name)\n",
    "        print(self.userid)\n",
    "        \n",
    "ob1=Prepster('rishikesh','Abc','abc@123') ##object \n",
    "ob1.display()"
   ]
  }
 ],
 "metadata": {
  "kernelspec": {
   "display_name": "base",
   "language": "python",
   "name": "python3"
  },
  "language_info": {
   "codemirror_mode": {
    "name": "ipython",
    "version": 3
   },
   "file_extension": ".py",
   "mimetype": "text/x-python",
   "name": "python",
   "nbconvert_exporter": "python",
   "pygments_lexer": "ipython3",
   "version": "3.12.4"
  }
 },
 "nbformat": 4,
 "nbformat_minor": 2
}
