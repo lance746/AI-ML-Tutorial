{
 "cells": [
  {
   "cell_type": "markdown",
   "metadata": {},
   "source": [
    "Here's an example of a machine learning algorithm code in Python to process the student marks data\n",
    "\n",
    "LinearRegression:\n",
    "\n",
    "1. Continuous target variable: Use LinearRegression when the target variable is continuous (e.g., predicting house prices, stock prices, temperatures).\n",
    "2. Linear relationships: Use LinearRegression when the relationship between features and the target variable is linear or can be approximated as linear.\n",
    "3. Simple models: Use LinearRegression for simple models where interpretability is important (e.g., understanding the impact of each feature on the target variable).\n",
    "4. Small to medium-sized datasets: LinearRegression is suitable for small to medium-sized datasets where computational efficiency is important.\n"
   ]
  },
  {
   "cell_type": "code",
   "execution_count": null,
   "metadata": {
    "vscode": {
     "languageId": "plaintext"
    }
   },
   "outputs": [],
   "source": [
    "# Import necessary libraries\n",
    "from sklearn.model_selection import train_test_split\n",
    "from sklearn.linear_model import LinearRegression\n",
    "from sklearn.metrics import mean_squared_error, r2_score\n",
    "import pandas as pd\n",
    "\n",
    "# Load dataset\n",
    "data = pd.read_csv(\"student_marks.csv\")\n",
    "\n",
    "# Preprocess data\n",
    "X = data[[\"Maths\", \"Science\", \"English\"]]  # features\n",
    "y = data[\"Grade\"]  # target variable\n",
    "\n",
    "# Split data into training and testing sets\n",
    "X_train, X_test, y_train, y_test = train_test_split(X, y, test_size=0.2, random_state=42)\n",
    "\n",
    "# Initialize and train Linear Regression model\n",
    "lr = LinearRegression()\n",
    "lr.fit(X_train, y_train)\n",
    "\n",
    "# Make predictions on testing set\n",
    "y_pred = lr.predict(X_test)\n",
    "\n",
    "# Evaluate model performance\n",
    "mse = mean_squared_error(y_test, y_pred)\n",
    "r2 = r2_score(y_test, y_pred)\n",
    "print(\"Mean Squared Error:\", mse)\n",
    "print(\"R-squared:\", r2)\n",
    "\n",
    "# Use the trained model to make predictions on new data\n",
    "new_data = pd.DataFrame({\n",
    "    \"Maths\": [85],\n",
    "    \"Science\": [90],\n",
    "    \"English\": [78]\n",
    "})\n",
    "new_prediction = lr.predict(new_data)\n",
    "print(\"Predicted Grade:\", new_prediction)\n",
    "\n"
   ]
  }
 ],
 "metadata": {
  "language_info": {
   "name": "python"
  }
 },
 "nbformat": 4,
 "nbformat_minor": 2
}
