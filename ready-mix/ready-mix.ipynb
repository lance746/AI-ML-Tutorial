{
 "cells": [
  {
   "cell_type": "markdown",
   "metadata": {},
   "source": [
    "Here is an example of a basic algorithm for Predictive Maintenance for Mixers using Python and scikit-learn\n",
    "\n",
    "RandomForestClassifier:\n",
    "\n",
    "1. Categorical target variable: Use RandomForestClassifier when the target variable is categorical (e.g., predicting classes, labels, or categories).\n",
    "2. Non-linear relationships: Use RandomForestClassifier when the relationship between features and the target variable is non-linear or complex.\n",
    "3. Handling high-dimensional data: RandomForestClassifier is effective in handling high-dimensional data with many features.\n",
    "4. Robustness to noise and outliers: RandomForestClassifier is robust to noisy data and outliers, making it suitable for datasets with errors or anomalies.\n",
    "5. Handling missing values: RandomForestClassifier can handle missing values in the data, making it suitable for datasets with missing information.\n"
   ]
  },
  {
   "cell_type": "code",
   "execution_count": 1,
   "metadata": {},
   "outputs": [
    {
     "name": "stdout",
     "output_type": "stream",
     "text": [
      "Accuracy: 1.0\n",
      "Classification Report:\n",
      "              precision    recall  f1-score   support\n",
      "\n",
      "           0       1.00      1.00      1.00         1\n",
      "           1       1.00      1.00      1.00         1\n",
      "\n",
      "    accuracy                           1.00         2\n",
      "   macro avg       1.00      1.00      1.00         2\n",
      "weighted avg       1.00      1.00      1.00         2\n",
      "\n"
     ]
    }
   ],
   "source": [
    "# Import necessary libraries\n",
    "from sklearn.ensemble import RandomForestClassifier\n",
    "from sklearn.model_selection import train_test_split\n",
    "from sklearn.metrics import accuracy_score, classification_report\n",
    "import pandas as pd\n",
    "\n",
    "# Load dataset\n",
    "data = pd.read_csv(\"data/mixer_data.csv\")\n",
    "\n",
    "# Preprocess data\n",
    "X = data.drop([\"target\"], axis=1)  # features\n",
    "y = data[\"target\"]  # target variable\n",
    "\n",
    "\n",
    "# Split data into training and testing sets\n",
    "X_train, X_test, y_train, y_test = train_test_split(X, y, test_size=0.2, random_state=42)\n",
    "\n",
    "\n",
    "# Initialize and train Random Forest Classifier\n",
    "rf = RandomForestClassifier(n_estimators=100, random_state=42)\n",
    "rf.fit(X_train, y_train)\n",
    "\n",
    "# Make predictions on testing set\n",
    "y_pred = rf.predict(X_test)\n",
    "\n",
    "\n",
    "# Evaluate model performance\n",
    "accuracy = accuracy_score(y_test, y_pred)\n",
    "print(\"Accuracy:\", accuracy)\n",
    "print(\"Classification Report:\")\n",
    "print(classification_report(y_test, y_pred))"
   ]
  },
  {
   "cell_type": "markdown",
   "metadata": {},
   "source": [
    "To get a prediction for a new, unseen data point, you can use the predict method of the trained Random Forest Classifier model. Here's how to do it:"
   ]
  },
  {
   "cell_type": "code",
   "execution_count": 2,
   "metadata": {},
   "outputs": [
    {
     "name": "stdout",
     "output_type": "stream",
     "text": [
      "Prediction: [1]\n"
     ]
    }
   ],
   "source": [
    "# Define a new data point\n",
    "new_data = pd.DataFrame({\n",
    "    \"Vibration\": [27.0],\n",
    "    \"Temperature\": [48.0],\n",
    "    \"Pressure\": [80.0],\n",
    "    \"Flowrate\": [38.0]\n",
    "})\n",
    "\n",
    "# Make a prediction\n",
    "prediction = rf.predict(new_data)\n",
    "\n",
    "# Print the prediction\n",
    "print(\"Prediction:\", prediction)\n"
   ]
  },
  {
   "cell_type": "markdown",
   "metadata": {},
   "source": [
    "Here is an example of a machine learning algorithm code in Python to analyze the parameters for Concrete Mix Design Optimization:"
   ]
  },
  {
   "cell_type": "code",
   "execution_count": 3,
   "metadata": {},
   "outputs": [
    {
     "name": "stdout",
     "output_type": "stream",
     "text": [
      "Mean Squared Error: 7.098227999999872\n",
      "R-squared: 0.9793717627741738\n",
      "Predicted Compressive Strength: [39.202]\n"
     ]
    }
   ],
   "source": [
    "# Import necessary libraries\n",
    "from sklearn.ensemble import RandomForestRegressor\n",
    "from sklearn.model_selection import train_test_split\n",
    "from sklearn.metrics import mean_squared_error, r2_score\n",
    "import pandas as pd\n",
    "\n",
    "# Load dataset\n",
    "data = pd.read_csv(\"data/concrete_data.csv\")\n",
    "\n",
    "# Preprocess data\n",
    "X = data.drop([\"compressive_strength\"], axis=1)  # features\n",
    "y = data[\"compressive_strength\"]  # target variable\n",
    "\n",
    "# Split data into training and testing sets\n",
    "X_train, X_test, y_train, y_test = train_test_split(X, y, test_size=0.2, random_state=42)\n",
    "\n",
    "# Initialize and train Random Forest Regressor\n",
    "rf = RandomForestRegressor(n_estimators=100, random_state=42)\n",
    "rf.fit(X_train, y_train)\n",
    "\n",
    "# Make predictions on testing set\n",
    "y_pred = rf.predict(X_test)\n",
    "\n",
    "# Evaluate model performance\n",
    "mse = mean_squared_error(y_test, y_pred)\n",
    "r2 = r2_score(y_test, y_pred)\n",
    "print(\"Mean Squared Error:\", mse)\n",
    "print(\"R-squared:\", r2)\n",
    "\n",
    "# Use the trained model to make predictions on new data\n",
    "new_data = pd.DataFrame({\n",
    "    \"cement_content\": [300],\n",
    "    \"aggregate_gradation\": [0.5],\n",
    "    \"admixture_dosage\": [1.2],\n",
    "    \"water_cement_ratio\": [0.45],\n",
    "    \"temperature\": [25],\n",
    "    \"humidity\": [60]\n",
    "})\n",
    "new_prediction = rf.predict(new_data)\n",
    "print(\"Predicted Compressive Strength:\", new_prediction)"
   ]
  }
 ],
 "metadata": {
  "kernelspec": {
   "display_name": "base",
   "language": "python",
   "name": "python3"
  },
  "language_info": {
   "codemirror_mode": {
    "name": "ipython",
    "version": 3
   },
   "file_extension": ".py",
   "mimetype": "text/x-python",
   "name": "python",
   "nbconvert_exporter": "python",
   "pygments_lexer": "ipython3",
   "version": "3.12.4"
  }
 },
 "nbformat": 4,
 "nbformat_minor": 2
}
